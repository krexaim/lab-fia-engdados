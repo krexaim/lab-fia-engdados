{
 "cells": [
  {
   "cell_type": "code",
   "execution_count": null,
   "id": "3f4f7055-7157-4769-af4e-a7d93ee76712",
   "metadata": {},
   "outputs": [],
   "source": [
    "import duckdb\n",
    "duckdb.read_csv(\"example.csv\")                # read a CSV file into a Relation\n",
    "duckdb.read_parquet(\"example.parquet\")        # read a Parquet file into a Relation\n",
    "duckdb.read_json(\"example.json\")              # read a JSON file into a Relation\n",
    "\n",
    "duckdb.sql(\"SELECT * FROM 'example.csv'\")     # directly query a CSV file\n",
    "duckdb.sql(\"SELECT * FROM 'example.parquet'\") # directly query a Parquet file\n",
    "duckdb.sql(\"SELECT * FROM 'example.json'\")    # directly query a JSON file"
   ]
  }
 ],
 "metadata": {
  "kernelspec": {
   "display_name": "Python 3 (ipykernel)",
   "language": "python",
   "name": "python3"
  },
  "language_info": {
   "codemirror_mode": {
    "name": "ipython",
    "version": 3
   },
   "file_extension": ".py",
   "mimetype": "text/x-python",
   "name": "python",
   "nbconvert_exporter": "python",
   "pygments_lexer": "ipython3",
   "version": "3.10.8"
  }
 },
 "nbformat": 4,
 "nbformat_minor": 5
}
