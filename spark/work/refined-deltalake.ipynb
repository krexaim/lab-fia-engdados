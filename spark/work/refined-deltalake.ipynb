{
 "cells": [
  {
   "cell_type": "code",
   "execution_count": null,
   "id": "0b9994ec-451d-4dca-ba63-ba46ac29b262",
   "metadata": {},
   "outputs": [],
   "source": [
    "# ================================================================\n",
    "\n",
    "# ---------------------------------------------------------------\n",
    "# 1. Imports e Configurações\n",
    "# ---------------------------------------------------------------\n",
    "from pyspark.sql import SparkSession\n",
    "from pyspark.sql.functions import col, count, year, split, explode, trim, upper\n",
    "from delta import configure_spark_with_delta_pip\n",
    "\n",
    "# Configurações MinIO / Delta\n",
    "MINIO_ENDPOINT = \"http://minio:9000\"\n",
    "MINIO_ACCESS_KEY = \"cursolab\"\n",
    "MINIO_SECRET_KEY = \"cursolab\"\n",
    "\n",
    "SILVER_PATH = \"s3a://trusted/movies/\"\n",
    "REFINED_PATH = \"s3a://refined/movies/\""
   ]
  },
  {
   "cell_type": "code",
   "execution_count": 2,
   "id": "014dc5d4-8f24-4456-b382-f7e75631ef23",
   "metadata": {},
   "outputs": [],
   "source": [
    "builder = (\n",
    "    SparkSession.builder.appName(\"RefinedViewsDeltaLake\")\n",
    "    .config(\"spark.jars\", \"/opt/spark/jars/hadoop-aws-3.3.4.jar,/opt/spark/jars/aws-java-sdk-bundle-1.12.262.jar\")\n",
    "    .config(\"spark.hadoop.fs.s3a.endpoint\", MINIO_ENDPOINT)\n",
    "    .config(\"spark.hadoop.fs.s3a.access.key\", MINIO_ACCESS_KEY)\n",
    "    .config(\"spark.hadoop.fs.s3a.secret.key\", MINIO_SECRET_KEY)\n",
    "    .config(\"spark.hadoop.fs.s3a.path.style.access\", \"true\")\n",
    "    .config(\"spark.hadoop.fs.s3a.impl\", \"org.apache.hadoop.fs.s3a.S3AFileSystem\")\n",
    "    .config(\"spark.sql.extensions\", \"io.delta.sql.DeltaSparkSessionExtension\")\n",
    "    .config(\"spark.sql.catalog.spark_catalog\", \"org.apache.spark.sql.delta.catalog.DeltaCatalog\")\n",
    ")\n",
    "\n",
    "spark = configure_spark_with_delta_pip(builder).getOrCreate()"
   ]
  },
  {
   "cell_type": "code",
   "execution_count": 4,
   "id": "4bfbe2fe-9e9f-441c-9510-6eafec896ee8",
   "metadata": {},
   "outputs": [],
   "source": [
    "def read_view(name: str):\n",
    "    \"\"\"Lê uma visão Delta Lake da camada refined.\"\"\"\n",
    "    path = f\"{REFINED_PATH}{name}\"\n",
    "    print(f\"Lendo visão: {path}\")\n",
    "    df = spark.read.format(\"delta\").load(path)\n",
    "    df.createOrReplaceTempView(name)\n",
    "    return df"
   ]
  },
  {
   "cell_type": "code",
   "execution_count": null,
   "id": "971c0295-35d2-423d-bbaa-8c9949d69b79",
   "metadata": {},
   "outputs": [],
   "source": [
    "titles_by_country = read_view(\"v1_titles_by_type\")\n",
    "titles_by_type = read_view(\"v2_top10_countries\")\n",
    "titles_by_year = read_view(\"v3_avg_duration\")\n",
    "titles_by_genre = read_view(\"v4_titles_by_year\")\n",
    "titles_by_director = read_view(\"v5_longest_descriptions\")\n"
   ]
  },
  {
   "cell_type": "code",
   "execution_count": null,
   "id": "b52df1da-9556-405d-9e2c-cdec810631ec",
   "metadata": {},
   "outputs": [],
   "source": [
    "titles_by_country.show()"
   ]
  },
  {
   "cell_type": "code",
   "execution_count": null,
   "id": "c043bd9a-cdc2-4ae3-8c6d-7b069851cabf",
   "metadata": {},
   "outputs": [],
   "source": [
    "titles_by_type.show()"
   ]
  },
  {
   "cell_type": "code",
   "execution_count": null,
   "id": "94c12242-efbb-4070-9bf3-e6c6b113b53c",
   "metadata": {},
   "outputs": [],
   "source": [
    "titles_by_year.show()"
   ]
  },
  {
   "cell_type": "code",
   "execution_count": null,
   "id": "8e7fce27-bcb2-4a5c-8bb2-ab159ae48454",
   "metadata": {},
   "outputs": [],
   "source": [
    "titles_by_genre.show()"
   ]
  },
  {
   "cell_type": "code",
   "execution_count": null,
   "id": "817673ec-b594-4633-a4cd-f80603e980bd",
   "metadata": {},
   "outputs": [],
   "source": [
    "titles_by_director.show()"
   ]
  },
  {
   "cell_type": "code",
   "execution_count": null,
   "id": "3588bfe2-d2ee-43c2-8de3-d8abc1e26e28",
   "metadata": {},
   "outputs": [],
   "source": []
  }
 ],
 "metadata": {
  "kernelspec": {
   "display_name": "Python 3 (ipykernel)",
   "language": "python",
   "name": "python3"
  },
  "language_info": {
   "codemirror_mode": {
    "name": "ipython",
    "version": 3
   },
   "file_extension": ".py",
   "mimetype": "text/x-python",
   "name": "python",
   "nbconvert_exporter": "python",
   "pygments_lexer": "ipython3",
   "version": "3.10.8"
  }
 },
 "nbformat": 4,
 "nbformat_minor": 5
}
